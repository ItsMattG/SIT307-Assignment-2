{
 "cells": [
  {
   "cell_type": "code",
   "execution_count": 116,
   "id": "super-browse",
   "metadata": {},
   "outputs": [],
   "source": [
    "from sklearn import tree\n",
    "from sklearn.model_selection import train_test_split\n",
    "from sklearn.metrics import accuracy_score\n",
    "from sklearn.tree import DecisionTreeClassifier\n",
    "from sklearn.model_selection import cross_val_score\n",
    "from sklearn.model_selection import validation_curve\n",
    "from sklearn.model_selection import ShuffleSplit, StratifiedKFold\n",
    "from sklearn.linear_model import LogisticRegression\n",
    "from sklearn import svm\n",
    "import numpy as np\n",
    "from numpy import mean\n",
    "from numpy import std\n",
    "import pandas as pd\n",
    "import matplotlib.pyplot as plt\n",
    "%matplotlib inline"
   ]
  },
  {
   "cell_type": "code",
   "execution_count": 117,
   "id": "sticky-malaysia",
   "metadata": {},
   "outputs": [],
   "source": [
    "iris_df = pd.read_csv('data/iris.txt')"
   ]
  },
  {
   "cell_type": "code",
   "execution_count": 118,
   "id": "continuing-swiss",
   "metadata": {},
   "outputs": [
    {
     "data": {
      "text/html": [
       "<div>\n",
       "<style scoped>\n",
       "    .dataframe tbody tr th:only-of-type {\n",
       "        vertical-align: middle;\n",
       "    }\n",
       "\n",
       "    .dataframe tbody tr th {\n",
       "        vertical-align: top;\n",
       "    }\n",
       "\n",
       "    .dataframe thead th {\n",
       "        text-align: right;\n",
       "    }\n",
       "</style>\n",
       "<table border=\"1\" class=\"dataframe\">\n",
       "  <thead>\n",
       "    <tr style=\"text-align: right;\">\n",
       "      <th></th>\n",
       "      <th>sepal_length</th>\n",
       "      <th>sepal_width</th>\n",
       "      <th>petal_length</th>\n",
       "      <th>petal_width</th>\n",
       "      <th>class</th>\n",
       "    </tr>\n",
       "  </thead>\n",
       "  <tbody>\n",
       "    <tr>\n",
       "      <th>0</th>\n",
       "      <td>5.1</td>\n",
       "      <td>3.5</td>\n",
       "      <td>1.4</td>\n",
       "      <td>0.2</td>\n",
       "      <td>Iris-setosa</td>\n",
       "    </tr>\n",
       "    <tr>\n",
       "      <th>1</th>\n",
       "      <td>4.9</td>\n",
       "      <td>3.0</td>\n",
       "      <td>1.4</td>\n",
       "      <td>0.2</td>\n",
       "      <td>Iris-setosa</td>\n",
       "    </tr>\n",
       "    <tr>\n",
       "      <th>2</th>\n",
       "      <td>4.7</td>\n",
       "      <td>3.2</td>\n",
       "      <td>1.3</td>\n",
       "      <td>0.2</td>\n",
       "      <td>Iris-setosa</td>\n",
       "    </tr>\n",
       "    <tr>\n",
       "      <th>3</th>\n",
       "      <td>4.6</td>\n",
       "      <td>3.1</td>\n",
       "      <td>1.5</td>\n",
       "      <td>0.2</td>\n",
       "      <td>Iris-setosa</td>\n",
       "    </tr>\n",
       "    <tr>\n",
       "      <th>4</th>\n",
       "      <td>5.0</td>\n",
       "      <td>3.6</td>\n",
       "      <td>1.4</td>\n",
       "      <td>0.2</td>\n",
       "      <td>Iris-setosa</td>\n",
       "    </tr>\n",
       "  </tbody>\n",
       "</table>\n",
       "</div>"
      ],
      "text/plain": [
       "   sepal_length  sepal_width  petal_length  petal_width        class\n",
       "0           5.1          3.5           1.4          0.2  Iris-setosa\n",
       "1           4.9          3.0           1.4          0.2  Iris-setosa\n",
       "2           4.7          3.2           1.3          0.2  Iris-setosa\n",
       "3           4.6          3.1           1.5          0.2  Iris-setosa\n",
       "4           5.0          3.6           1.4          0.2  Iris-setosa"
      ]
     },
     "execution_count": 118,
     "metadata": {},
     "output_type": "execute_result"
    }
   ],
   "source": [
    "iris_df.columns = iris_df.columns.str.strip().str.lower().str.replace(' ', '_')\n",
    "iris_df.head()"
   ]
  },
  {
   "cell_type": "code",
   "execution_count": 119,
   "id": "worse-arcade",
   "metadata": {},
   "outputs": [
    {
     "data": {
      "text/html": [
       "<div>\n",
       "<style scoped>\n",
       "    .dataframe tbody tr th:only-of-type {\n",
       "        vertical-align: middle;\n",
       "    }\n",
       "\n",
       "    .dataframe tbody tr th {\n",
       "        vertical-align: top;\n",
       "    }\n",
       "\n",
       "    .dataframe thead th {\n",
       "        text-align: right;\n",
       "    }\n",
       "</style>\n",
       "<table border=\"1\" class=\"dataframe\">\n",
       "  <thead>\n",
       "    <tr style=\"text-align: right;\">\n",
       "      <th></th>\n",
       "      <th>sepal_length</th>\n",
       "      <th>sepal_width</th>\n",
       "      <th>petal_length</th>\n",
       "      <th>petal_width</th>\n",
       "      <th>Iclass</th>\n",
       "    </tr>\n",
       "  </thead>\n",
       "  <tbody>\n",
       "    <tr>\n",
       "      <th>0</th>\n",
       "      <td>5.1</td>\n",
       "      <td>3.5</td>\n",
       "      <td>1.4</td>\n",
       "      <td>0.2</td>\n",
       "      <td>Iris-setosa</td>\n",
       "    </tr>\n",
       "    <tr>\n",
       "      <th>1</th>\n",
       "      <td>4.9</td>\n",
       "      <td>3.0</td>\n",
       "      <td>1.4</td>\n",
       "      <td>0.2</td>\n",
       "      <td>Iris-setosa</td>\n",
       "    </tr>\n",
       "    <tr>\n",
       "      <th>2</th>\n",
       "      <td>4.7</td>\n",
       "      <td>3.2</td>\n",
       "      <td>1.3</td>\n",
       "      <td>0.2</td>\n",
       "      <td>Iris-setosa</td>\n",
       "    </tr>\n",
       "    <tr>\n",
       "      <th>3</th>\n",
       "      <td>4.6</td>\n",
       "      <td>3.1</td>\n",
       "      <td>1.5</td>\n",
       "      <td>0.2</td>\n",
       "      <td>Iris-setosa</td>\n",
       "    </tr>\n",
       "    <tr>\n",
       "      <th>4</th>\n",
       "      <td>5.0</td>\n",
       "      <td>3.6</td>\n",
       "      <td>1.4</td>\n",
       "      <td>0.2</td>\n",
       "      <td>Iris-setosa</td>\n",
       "    </tr>\n",
       "  </tbody>\n",
       "</table>\n",
       "</div>"
      ],
      "text/plain": [
       "   sepal_length  sepal_width  petal_length  petal_width       Iclass\n",
       "0           5.1          3.5           1.4          0.2  Iris-setosa\n",
       "1           4.9          3.0           1.4          0.2  Iris-setosa\n",
       "2           4.7          3.2           1.3          0.2  Iris-setosa\n",
       "3           4.6          3.1           1.5          0.2  Iris-setosa\n",
       "4           5.0          3.6           1.4          0.2  Iris-setosa"
      ]
     },
     "execution_count": 119,
     "metadata": {},
     "output_type": "execute_result"
    }
   ],
   "source": [
    "iris_df = iris_df.rename(columns={'class': 'Iclass'}, index={'FIVE': 'five'})\n",
    "iris_df.head()"
   ]
  },
  {
   "cell_type": "code",
   "execution_count": 120,
   "id": "seasonal-yesterday",
   "metadata": {},
   "outputs": [],
   "source": [
    "feature_cols = ['sepal_length', 'sepal_width', 'petal_length', 'petal_width']\n",
    "X = iris_df[feature_cols]\n",
    "y = iris_df.Iclass"
   ]
  },
  {
   "cell_type": "code",
   "execution_count": 121,
   "id": "comic-contemporary",
   "metadata": {},
   "outputs": [],
   "source": [
    "Xtrain, Xtest, ytrain, ytest = train_test_split(X, y, test_size=0.3, random_state=42)"
   ]
  },
  {
   "cell_type": "code",
   "execution_count": 122,
   "id": "regulation-shuttle",
   "metadata": {},
   "outputs": [],
   "source": [
    "treeclf = DecisionTreeClassifier(max_depth=5, random_state=1)"
   ]
  },
  {
   "cell_type": "code",
   "execution_count": 123,
   "id": "juvenile-protein",
   "metadata": {},
   "outputs": [
    {
     "data": {
      "text/plain": [
       "DecisionTreeClassifier(max_depth=5, random_state=1)"
      ]
     },
     "execution_count": 123,
     "metadata": {},
     "output_type": "execute_result"
    }
   ],
   "source": [
    "treeclf.fit(Xtrain, ytrain)"
   ]
  },
  {
   "cell_type": "code",
   "execution_count": 124,
   "id": "incoming-purchase",
   "metadata": {},
   "outputs": [
    {
     "name": "stdout",
     "output_type": "stream",
     "text": [
      "Training accuracy: 0.9904761904761905\n",
      "Testing accuracy : 1.0\n"
     ]
    }
   ],
   "source": [
    "print(\"Training accuracy: {}\".format(accuracy_score(ytrain, treeclf.predict(Xtrain))))\n",
    "print(\"Testing accuracy : {}\".format(accuracy_score(ytest, treeclf.predict(Xtest))))"
   ]
  },
  {
   "cell_type": "code",
   "execution_count": 127,
   "id": "scientific-perry",
   "metadata": {},
   "outputs": [
    {
     "name": "stdout",
     "output_type": "stream",
     "text": [
      "Accuracy for each fold: [0.90909091 0.90909091 0.90909091 0.81818182 0.81818182 1.\n",
      " 1.         0.8        0.9        0.9       ]\n",
      "Mean Accuracy: 0.8963636363636365\n"
     ]
    }
   ],
   "source": [
    "scores = cross_val_score(treeclf, Xtrain, ytrain, cv=10, scoring='accuracy')\n",
    "print(\"Accuracy for each fold: {}\".format(scores))\n",
    "print(\"Mean Accuracy: {}\".format(np.mean(scores)))"
   ]
  },
  {
   "cell_type": "code",
   "execution_count": 128,
   "id": "classified-morning",
   "metadata": {},
   "outputs": [],
   "source": [
    "max_depth_range = range(1, 11)"
   ]
  },
  {
   "cell_type": "code",
   "execution_count": 129,
   "id": "expected-entrepreneur",
   "metadata": {},
   "outputs": [],
   "source": [
    "train_scores, valid_scores = validation_curve( treeclf, Xtrain, ytrain, param_name=\"max_depth\", param_range=max_depth_range,\n",
    "    cv=10, scoring=\"accuracy\")"
   ]
  },
  {
   "cell_type": "code",
   "execution_count": 130,
   "id": "velvet-florence",
   "metadata": {},
   "outputs": [
    {
     "name": "stdout",
     "output_type": "stream",
     "text": [
      "(10, 10)\n"
     ]
    }
   ],
   "source": [
    "print(train_scores.shape)"
   ]
  },
  {
   "cell_type": "code",
   "execution_count": 131,
   "id": "authentic-liability",
   "metadata": {},
   "outputs": [],
   "source": [
    "mean_train_score = np.mean(train_scores, axis=1) \n",
    "mean_val_score   = np.mean(valid_scores, axis=1)"
   ]
  },
  {
   "cell_type": "code",
   "execution_count": 132,
   "id": "thermal-powell",
   "metadata": {},
   "outputs": [
    {
     "data": {
      "text/plain": [
       "Text(0.5, 1.0, 'Accuracy comparison of training/validation set')"
      ]
     },
     "execution_count": 132,
     "metadata": {},
     "output_type": "execute_result"
    },
    {
     "data": {
      "image/png": "[encoded data removed]",
      "text/plain": [
       "<Figure size 432x288 with 1 Axes>"
      ]
     },
     "metadata": {
      "needs_background": "light"
     },
     "output_type": "display_data"
    }
   ],
   "source": [
    "plt.plot(max_depth_range, mean_train_score, color=\"blue\", linewidth=1.5, label=\"Training\")\n",
    "plt.plot(max_depth_range, mean_val_score, color=\"red\", linewidth=1.5, label=\"Validation\")\n",
    "plt.legend(loc=\"upper left\")\n",
    "plt.xlabel(\"Tree-depth\")\n",
    "plt.ylabel(\"Model Accuracy\")\n",
    "plt.title(\"Accuracy comparison of training/validation set\")"
   ]
  },
  {
   "cell_type": "code",
   "execution_count": 133,
   "id": "color-destruction",
   "metadata": {},
   "outputs": [
    {
     "name": "stdout",
     "output_type": "stream",
     "text": [
      "Training accuracy: 0.9523809523809523\n",
      "Testing accuracy : 1.0\n"
     ]
    }
   ],
   "source": [
    "treeclf = DecisionTreeClassifier(max_depth=3)\n",
    "treeclf.fit(Xtrain,ytrain)\n",
    "print(\"Training accuracy: {}\".format(accuracy_score(ytrain, treeclf.predict(Xtrain))))\n",
    "print(\"Testing accuracy : {}\".format(accuracy_score(ytest, treeclf.predict(Xtest))))"
   ]
  },
  {
   "cell_type": "code",
   "execution_count": 134,
   "id": "photographic-friend",
   "metadata": {},
   "outputs": [
    {
     "data": {
      "text/plain": [
       "10"
      ]
     },
     "execution_count": 134,
     "metadata": {},
     "output_type": "execute_result"
    }
   ],
   "source": [
    "# do StratifiedKFold here\n",
    "skf = StratifiedKFold(n_splits=10)\n",
    "skf.get_n_splits(X, y)"
   ]
  },
  {
   "cell_type": "code",
   "execution_count": 135,
   "id": "reported-marriage",
   "metadata": {},
   "outputs": [
    {
     "name": "stdout",
     "output_type": "stream",
     "text": [
      "StratifiedKFold(n_splits=10, random_state=None, shuffle=False)\n"
     ]
    }
   ],
   "source": [
    "print(skf)"
   ]
  },
  {
   "cell_type": "code",
   "execution_count": 136,
   "id": "moderate-participation",
   "metadata": {
    "scrolled": true
   },
   "outputs": [
    {
     "name": "stdout",
     "output_type": "stream",
     "text": [
      "TRAIN: [  5   6   7   8   9  10  11  12  13  14  15  16  17  18  19  20  21  22\n",
      "  23  24  25  26  27  28  29  30  31  32  33  34  35  36  37  38  39  40\n",
      "  41  42  43  44  45  46  47  48  49  55  56  57  58  59  60  61  62  63\n",
      "  64  65  66  67  68  69  70  71  72  73  74  75  76  77  78  79  80  81\n",
      "  82  83  84  85  86  87  88  89  90  91  92  93  94  95  96  97  98  99\n",
      " 105 106 107 108 109 110 111 112 113 114 115 116 117 118 119 120 121 122\n",
      " 123 124 125 126 127 128 129 130 131 132 133 134 135 136 137 138 139 140\n",
      " 141 142 143 144 145 146 147 148 149] TEST: [  0   1   2   3   4  50  51  52  53  54 100 101 102 103 104]\n",
      "TRAIN: [  0   1   2   3   4  10  11  12  13  14  15  16  17  18  19  20  21  22\n",
      "  23  24  25  26  27  28  29  30  31  32  33  34  35  36  37  38  39  40\n",
      "  41  42  43  44  45  46  47  48  49  50  51  52  53  54  60  61  62  63\n",
      "  64  65  66  67  68  69  70  71  72  73  74  75  76  77  78  79  80  81\n",
      "  82  83  84  85  86  87  88  89  90  91  92  93  94  95  96  97  98  99\n",
      " 100 101 102 103 104 110 111 112 113 114 115 116 117 118 119 120 121 122\n",
      " 123 124 125 126 127 128 129 130 131 132 133 134 135 136 137 138 139 140\n",
      " 141 142 143 144 145 146 147 148 149] TEST: [  5   6   7   8   9  55  56  57  58  59 105 106 107 108 109]\n",
      "TRAIN: [  0   1   2   3   4   5   6   7   8   9  15  16  17  18  19  20  21  22\n",
      "  23  24  25  26  27  28  29  30  31  32  33  34  35  36  37  38  39  40\n",
      "  41  42  43  44  45  46  47  48  49  50  51  52  53  54  55  56  57  58\n",
      "  59  65  66  67  68  69  70  71  72  73  74  75  76  77  78  79  80  81\n",
      "  82  83  84  85  86  87  88  89  90  91  92  93  94  95  96  97  98  99\n",
      " 100 101 102 103 104 105 106 107 108 109 115 116 117 118 119 120 121 122\n",
      " 123 124 125 126 127 128 129 130 131 132 133 134 135 136 137 138 139 140\n",
      " 141 142 143 144 145 146 147 148 149] TEST: [ 10  11  12  13  14  60  61  62  63  64 110 111 112 113 114]\n",
      "TRAIN: [  0   1   2   3   4   5   6   7   8   9  10  11  12  13  14  20  21  22\n",
      "  23  24  25  26  27  28  29  30  31  32  33  34  35  36  37  38  39  40\n",
      "  41  42  43  44  45  46  47  48  49  50  51  52  53  54  55  56  57  58\n",
      "  59  60  61  62  63  64  70  71  72  73  74  75  76  77  78  79  80  81\n",
      "  82  83  84  85  86  87  88  89  90  91  92  93  94  95  96  97  98  99\n",
      " 100 101 102 103 104 105 106 107 108 109 110 111 112 113 114 120 121 122\n",
      " 123 124 125 126 127 128 129 130 131 132 133 134 135 136 137 138 139 140\n",
      " 141 142 143 144 145 146 147 148 149] TEST: [ 15  16  17  18  19  65  66  67  68  69 115 116 117 118 119]\n",
      "TRAIN: [  0   1   2   3   4   5   6   7   8   9  10  11  12  13  14  15  16  17\n",
      "  18  19  25  26  27  28  29  30  31  32  33  34  35  36  37  38  39  40\n",
      "  41  42  43  44  45  46  47  48  49  50  51  52  53  54  55  56  57  58\n",
      "  59  60  61  62  63  64  65  66  67  68  69  75  76  77  78  79  80  81\n",
      "  82  83  84  85  86  87  88  89  90  91  92  93  94  95  96  97  98  99\n",
      " 100 101 102 103 104 105 106 107 108 109 110 111 112 113 114 115 116 117\n",
      " 118 119 125 126 127 128 129 130 131 132 133 134 135 136 137 138 139 140\n",
      " 141 142 143 144 145 146 147 148 149] TEST: [ 20  21  22  23  24  70  71  72  73  74 120 121 122 123 124]\n",
      "TRAIN: [  0   1   2   3   4   5   6   7   8   9  10  11  12  13  14  15  16  17\n",
      "  18  19  20  21  22  23  24  30  31  32  33  34  35  36  37  38  39  40\n",
      "  41  42  43  44  45  46  47  48  49  50  51  52  53  54  55  56  57  58\n",
      "  59  60  61  62  63  64  65  66  67  68  69  70  71  72  73  74  80  81\n",
      "  82  83  84  85  86  87  88  89  90  91  92  93  94  95  96  97  98  99\n",
      " 100 101 102 103 104 105 106 107 108 109 110 111 112 113 114 115 116 117\n",
      " 118 119 120 121 122 123 124 130 131 132 133 134 135 136 137 138 139 140\n",
      " 141 142 143 144 145 146 147 148 149] TEST: [ 25  26  27  28  29  75  76  77  78  79 125 126 127 128 129]\n",
      "TRAIN: [  0   1   2   3   4   5   6   7   8   9  10  11  12  13  14  15  16  17\n",
      "  18  19  20  21  22  23  24  25  26  27  28  29  35  36  37  38  39  40\n",
      "  41  42  43  44  45  46  47  48  49  50  51  52  53  54  55  56  57  58\n",
      "  59  60  61  62  63  64  65  66  67  68  69  70  71  72  73  74  75  76\n",
      "  77  78  79  85  86  87  88  89  90  91  92  93  94  95  96  97  98  99\n",
      " 100 101 102 103 104 105 106 107 108 109 110 111 112 113 114 115 116 117\n",
      " 118 119 120 121 122 123 124 125 126 127 128 129 135 136 137 138 139 140\n",
      " 141 142 143 144 145 146 147 148 149] TEST: [ 30  31  32  33  34  80  81  82  83  84 130 131 132 133 134]\n",
      "TRAIN: [  0   1   2   3   4   5   6   7   8   9  10  11  12  13  14  15  16  17\n",
      "  18  19  20  21  22  23  24  25  26  27  28  29  30  31  32  33  34  40\n",
      "  41  42  43  44  45  46  47  48  49  50  51  52  53  54  55  56  57  58\n",
      "  59  60  61  62  63  64  65  66  67  68  69  70  71  72  73  74  75  76\n",
      "  77  78  79  80  81  82  83  84  90  91  92  93  94  95  96  97  98  99\n",
      " 100 101 102 103 104 105 106 107 108 109 110 111 112 113 114 115 116 117\n",
      " 118 119 120 121 122 123 124 125 126 127 128 129 130 131 132 133 134 140\n",
      " 141 142 143 144 145 146 147 148 149] TEST: [ 35  36  37  38  39  85  86  87  88  89 135 136 137 138 139]\n",
      "TRAIN: [  0   1   2   3   4   5   6   7   8   9  10  11  12  13  14  15  16  17\n",
      "  18  19  20  21  22  23  24  25  26  27  28  29  30  31  32  33  34  35\n",
      "  36  37  38  39  45  46  47  48  49  50  51  52  53  54  55  56  57  58\n",
      "  59  60  61  62  63  64  65  66  67  68  69  70  71  72  73  74  75  76\n",
      "  77  78  79  80  81  82  83  84  85  86  87  88  89  95  96  97  98  99\n",
      " 100 101 102 103 104 105 106 107 108 109 110 111 112 113 114 115 116 117\n",
      " 118 119 120 121 122 123 124 125 126 127 128 129 130 131 132 133 134 135\n",
      " 136 137 138 139 145 146 147 148 149] TEST: [ 40  41  42  43  44  90  91  92  93  94 140 141 142 143 144]\n",
      "TRAIN: [  0   1   2   3   4   5   6   7   8   9  10  11  12  13  14  15  16  17\n",
      "  18  19  20  21  22  23  24  25  26  27  28  29  30  31  32  33  34  35\n",
      "  36  37  38  39  40  41  42  43  44  50  51  52  53  54  55  56  57  58\n",
      "  59  60  61  62  63  64  65  66  67  68  69  70  71  72  73  74  75  76\n",
      "  77  78  79  80  81  82  83  84  85  86  87  88  89  90  91  92  93  94\n",
      " 100 101 102 103 104 105 106 107 108 109 110 111 112 113 114 115 116 117\n",
      " 118 119 120 121 122 123 124 125 126 127 128 129 130 131 132 133 134 135\n",
      " 136 137 138 139 140 141 142 143 144] TEST: [ 45  46  47  48  49  95  96  97  98  99 145 146 147 148 149]\n"
     ]
    }
   ],
   "source": [
    "for train_index, test_index in skf.split(X, y):\n",
    "    print(\"TRAIN:\", train_index, \"TEST:\", test_index)\n",
    "    X_train, X_test = X.iloc[train_index], X.iloc[test_index]\n",
    "    y_train, y_test = y.iloc[train_index], y.iloc[test_index]"
   ]
  },
  {
   "cell_type": "code",
   "execution_count": 137,
   "id": "front-privilege",
   "metadata": {
    "scrolled": false
   },
   "outputs": [
    {
     "name": "stdout",
     "output_type": "stream",
     "text": [
      "Accuracy for each fold: [1.         0.93333333 1.         1.         1.         0.93333333\n",
      " 0.93333333 0.93333333 1.         1.        ]\n",
      "Mean Accuracy: 0.9733333333333334\n"
     ]
    }
   ],
   "source": [
    "cv = StratifiedKFold(n_splits=10)\n",
    "model = svm.SVC()\n",
    "scores = cross_val_score(model, X, y, cv=cv, scoring='accuracy')\n",
    "print(\"Accuracy for each fold: {}\".format(scores))\n",
    "print(\"Mean Accuracy: {}\".format(np.mean(scores)))"
   ]
  },
  {
   "cell_type": "code",
   "execution_count": 138,
   "id": "trained-finish",
   "metadata": {},
   "outputs": [
    {
     "data": {
      "text/plain": [
       "10"
      ]
     },
     "execution_count": 138,
     "metadata": {},
     "output_type": "execute_result"
    }
   ],
   "source": [
    "# do ShuffleSplit here\n",
    "ss = ShuffleSplit(n_splits=10, test_size=0.1, random_state=0)\n",
    "ss.get_n_splits(X)"
   ]
  },
  {
   "cell_type": "code",
   "execution_count": 139,
   "id": "searching-julian",
   "metadata": {},
   "outputs": [
    {
     "name": "stdout",
     "output_type": "stream",
     "text": [
      "ShuffleSplit(n_splits=10, random_state=0, test_size=0.1, train_size=None)\n"
     ]
    }
   ],
   "source": [
    "print(ss)"
   ]
  },
  {
   "cell_type": "code",
   "execution_count": 142,
   "id": "institutional-locking",
   "metadata": {
    "scrolled": true
   },
   "outputs": [
    {
     "name": "stdout",
     "output_type": "stream",
     "text": [
      "TRAIN: [ 37  78  90  45  16 121  66  24   8 126  22  44  97  93  26 137  84  27\n",
      " 127 132  59  18  83  61  92 112   2 141  43  10  60 116 144 119 108  69\n",
      " 135  56  80 123 133 106 146  50 147  85  30 101  94  64  89  91 125  48\n",
      "  13 111  95  20  15  52   3 149  98   6  68 109  96  12 102 120 104 128\n",
      "  46  11 110 124  41 148   1 113 139  42   4 129  17  38   5  53 143 105\n",
      "   0  34  28  55  75  35  23  74  31 118  57 131  65  32 138  14 122  19\n",
      "  29 130  49 136  99  82  79 115 145  72  77  25  81 140 142  39  58  88\n",
      "  70  87  36  21   9 103  67 117  47] TEST: [114  62  33 107   7 100  40  86  76  71 134  51  73  54  63]\n",
      "TRAIN: [148   6  65  47  68  60  15 124  58 142  12  59 105  89  78  52 131 113\n",
      "  98  30 136  66 133  49  62  74  17 106   8 135  80 107  90   0  36 112\n",
      "   5  57 102  55  34 128  33  21  73   7  45 129 103 146 120  94  50 134\n",
      "  99 126 114   9  39  97 101  29  81  20  46  51  53  23  27   2  28  37\n",
      " 111  10  84 137 127  43  87  69 144 140  35  76   3  82 145 116  88  44\n",
      " 147   1  93  38  11 115  54  40  18  41  79  24  56  71  13  31  85  70\n",
      " 132 125 123 100  32 104  83 117 118 138  25 110  16  75 109 121  86 139\n",
      "   4  96  14  61  67 149  95  19  72] TEST: [ 92 141 130 119  48 143 122  63  26  64  42 108  91  77  22]\n",
      "TRAIN: [ 62  76  69  46 129   1  10   3  95  21  41  57  47  78  19 107  90   9\n",
      " 147 148  40  29  27  89  37  33  84  54  88  73 111 125 101 143  23 117\n",
      "  50 146   2 110 118 131  17   6 127  67 124  15  56 115 112  71 145 100\n",
      "  38  80 109  44 144 130  35  97  59  48 134  70  65  98 138  55  43 132\n",
      " 103  30 114  34  18 141 139  49  52  74  26  45 126  39   4  11  53 149\n",
      "  79   8   0   5 133  61 135   7  83  99  22  68  82  20  28  86  14  42\n",
      "  32  25  36  92  75  64 142 120  81  58  13 140  72  87 123  93  91 136\n",
      "  51 116  24  94 106  16  63 128 105] TEST: [ 85 137  77 108 122 104 121  12  31  96 113 102  60  66 119]\n",
      "TRAIN: [ 76 123 139 137  54  34 115  64  65  25 142 119  40  63  42  19 105  93\n",
      "  16 106  12  33  52  29  31  77  27  37  14  48   2  56   1 135  81  18\n",
      " 104 100  41  15 148  53  79   6  98 132  13  11  10 136  47  60  61 103\n",
      " 145  22 130  55  82 112 149  62 141 120  86  20  66  35  17  88   4  45\n",
      "  50  57  59  44  70  32  78 133 110  96  87  74  89  38  51 116  46  43\n",
      "   8  92 101  21 127 118  73  30 107 124   5   0  95  83  71 144 102 126\n",
      " 108  91  85  67   7  84  72  94 125 109  26  68  28 121   3 134  69  99\n",
      "  36  24  39 128 113 129  58 140 131] TEST: [114  49 138  23   9 122 146  80  90 117 111  75 147 143  97]\n",
      "TRAIN: [122   1 115  67  13 130 116  11 106 148  56  43  75  60 131 139  98  27\n",
      "   6  38  93   0  19  85  95  44  68 134  59 118  54 103   8  79  30  91\n",
      " 138 112  50  96 146  70  61  99  39  84 104 117 101  10   2   9  66  83\n",
      " 121  26  28  42  20  65 137 109 102  80  71 114  51 128  86  37  92  48\n",
      " 142 107 140 110  73  76  64  52 149 144  87  34  32 105  12  29 147 111\n",
      "  46  53   7 145  97  18  33 120  55  49 126  36  40 123   3  24  94  63\n",
      " 141  17   4  58  69  82 125  89  57  47  45  72  62  78  74  90 133 129\n",
      " 127 119  21  25 136  35  81  77 100] TEST: [ 15 143  23 108 124  31 132  22 113  41  14   5  88  16 135]\n",
      "TRAIN: [ 58  84  55  21  41 127  42  86  98  72  85 108 111  20  69  44  31  78\n",
      "  66  70  75 106   1 121  99  53 118   8 142 131  49 144  71 136  77  45\n",
      " 117  35  97  34 143  65  39  14  68  11  50 122 138  27 125 104 109  23\n",
      "  81  82   4  33  88 146  57  17 128  91 145  56  73  16  67  61   3  74\n",
      " 141  87   0 107 114  52   7 110 129 126 137 132 102  83  36 124  19  22\n",
      " 103  90  29  64  93  12  10 140  32  80 112  96  95 113  59  37 101  63\n",
      "  15   5  30  26  40  48 100   6 105  92  13  89  18 120 139  47 147  62\n",
      "  79  43 116 133 115   9  76   2  51] TEST: [ 38  46  28  94 148 130  60  24  54 149  25 134 135 119 123]\n",
      "TRAIN: [ 98  12  69 131  40 128 132  97  91  90  31 147  34 129  50  56  95   0\n",
      "  28 134   1  78  39 111  62 138  54  67  37  60  44 105  18  14  61  80\n",
      "  64 142 123  53 144 108  63  58 149  76 146 141 115  74  66 113   7  52\n",
      " 116  15  71 143 106  29  46 104  23  16  51 122   6  45  25  86  19 102\n",
      "  68  55  85  89  17  57  42  20  21  47  70 136  81 124  13 140  77   3\n",
      "  83 130  94  24 114   4   9  84  79  49  88  35 125 137 127  36  59 117\n",
      "  65 133 126  38   5  10   8   2  87  82 100  96  48  26 119 135  11 139\n",
      " 109  22 118 110  43 112 145  41 101] TEST: [ 92  75 120  99  72 121  33  30  32 103  73 107  27  93 148]\n",
      "TRAIN: [ 85  35  45 130  62   8  14  19  69   5  56  81  53 149 109  98  33  46\n",
      "  97  90  16 148 136 118  54  39  99 110  67 131 104  26  61 102 101 117\n",
      " 146   0  23   9  52 140   7 142   2  11  30  59 116 100   3  86 139  48\n",
      " 121  89 138  42  32 112 135  84  40  34  74 143 126   6 133  38 111  17\n",
      "  47  66  41 134 119 103  94  49  65 123   4 128  95  29  77  75  87 124\n",
      " 108  91 132  44  55 122  20 113  78  18  13  76 120  58 127  88  27  71\n",
      "  28 125 141  22  57  82 107  96  50 129 145 137  21  70  80 105  10  51\n",
      "  15 147  79  31  64  68  83 106  72] TEST: [ 25  73  37   1  92  24  93  43 114 144  63 115  12  36  60]\n",
      "TRAIN: [ 57  82  41 141   8  52 122  79   0  88  69  63   5  34  75 133  59  46\n",
      "  72  48 104   7  93  55  54  22   4 115  40  94  37  83  78  38  44  62\n",
      " 118  20  86  45 110  87  23 148  95 113 139  17 147  97  42 134  73 107\n",
      "  18  15 137  70  53  71  84  47  90  65  96 144  28  32  10 131 101 145\n",
      " 135  26 138  77  85 111 130  76  19  66   2   1  13  98 129  64  16  24\n",
      "  58 149 108 123  74 106  39  21  56 100 146 125  33   3  27 126  67  81\n",
      " 120  60  51  29  14 140 114  30 143 102  99 124  12  50   9  49 128  35\n",
      " 117  80  36 105 132 119  68 103  61] TEST: [  6  92  91  89 121 116 109  43 112 127  11  25  31 142 136]\n",
      "TRAIN: [  3  70  12  31  55  74 117  39  93 102 145  37  76 110 130  86  54  26\n",
      "   0   4  66 140  34  47  23  32  41  91  57   7  40 146 101  30 119 135\n",
      " 104 116  50 144  84  36  73  10 103   6  89 141  53  72 111  25  60  78\n",
      "  59  16  42  79 149   9  22  62 124  17  61  51 109  58  63  56 123  49\n",
      " 138  35  29 105  15 126  27 120  33 136  21  14  82 122 142  95 143  75\n",
      " 134   2  24  85   5 107 125 128  20  64  46  83   8  67 127 106 112  80\n",
      " 131  45  98  19  43  96 108 148 100 129   1  71 137  69  99  48 118 114\n",
      "  68  65  28 113 121 133  94  77  81] TEST: [132  90  18  52  87  11  92 139 147 115  97  38  44  13  88]\n"
     ]
    }
   ],
   "source": [
    "for train_index, test_index in ss.split(X, y):\n",
    "    print(\"TRAIN:\", train_index, \"TEST:\", test_index)\n",
    "    X_train, X_test = X.iloc[train_index], X.iloc[test_index]\n",
    "    y_train, y_test = y.iloc[train_index], y.iloc[test_index]"
   ]
  },
  {
   "cell_type": "code",
   "execution_count": 144,
   "id": "gorgeous-habitat",
   "metadata": {},
   "outputs": [
    {
     "name": "stdout",
     "output_type": "stream",
     "text": [
      "Accuracy for each fold: [1.         0.93333333 0.86666667 0.93333333 1.         0.93333333\n",
      " 1.         1.         1.         1.        ]\n",
      "Mean Accuracy: 0.9666666666666668\n"
     ]
    }
   ],
   "source": [
    "cv = ShuffleSplit(n_splits=10, test_size=0.1, random_state=0)\n",
    "scores = cross_val_score(model, X, y, cv=cv, scoring='accuracy')\n",
    "print(\"Accuracy for each fold: {}\".format(scores))\n",
    "print(\"Mean Accuracy: {}\".format(np.mean(scores)))"
   ]
  }
 ],
 "metadata": {
  "kernelspec": {
   "display_name": "Python 3",
   "language": "python",
   "name": "python3"
  },
  "language_info": {
   "codemirror_mode": {
    "name": "ipython",
    "version": 3
   },
   "file_extension": ".py",
   "mimetype": "text/x-python",
   "name": "python",
   "nbconvert_exporter": "python",
   "pygments_lexer": "ipython3",
   "version": "3.9.4"
  }
 },
 "nbformat": 4,
 "nbformat_minor": 5
}
